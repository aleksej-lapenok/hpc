{
 "cells": [
  {
   "cell_type": "markdown",
   "metadata": {},
   "source": [
    "\n",
    "# GOAL OF LABORATORY WORK\n",
    "\n",
    "The Goal was to show how matrix multiplication can be speeded with the same precision\n",
    "and results up with the help of Multithreaded architecture."
   ]
  },
  {
   "cell_type": "markdown",
   "metadata": {},
   "source": [
    "# TASK DEFINITION\n",
    "Matrix Multiplication is done by a single threaded architecture and using OpenMP which\n",
    "supports multithread architecture. We first calculated the time taken by the single thread\n",
    "architecture about how much time it takes for a single threaded application to calculate the\n",
    "matrix multiplication of two matrix of large size (test size = 1000 x 1000). And then we\n",
    "implement the same with the help of multithreaded system and we drew the results."
   ]
  },
  {
   "cell_type": "markdown",
   "metadata": {},
   "source": [
    "# BRIEF THEORY\n",
    "OpenMP (Open Multi-Processing) is an application programming interface (API) that\n",
    "supports multi-platform shared memory multiprocessing programming in C, C++, and Fortran on most platforms, instruction set architectures and operating systems, including Solaris, AIX, HP-UX, Linux, macOS, and Windows. It consists of a set of compiler directives, library routines, and environment variables that influence run-time behavior\n",
    "OpenMP is managed by the nonprofit technology consortium OpenMP Architecture\n",
    "Review Board (or OpenMP ARB), jointly defined by a group of major computer hardware and\n",
    "software vendors, including AMD, IBM, Intel, Cray, HP, Fujitsu, Nvidia, NEC, Red Hat, Texas Instruments, Oracle Corporation, and more OpenMP uses a portable, scalable model that gives programmers a simple and flexible interface for developing parallel applications for platforms ranging from the standard desktop computer to the supercomputer. An application built with the hybrid model of parallel programming can run on a computer cluster using both OpenMP and Message Passing Interface (MPI), such that OpenMP is used for parallelism within a (multi-core) node while MPI is used for parallelism between nodes. have also been efforts to run OpenMP on software distributed shared memory systems, to translate OpenMP into MPI and to extend OpenMP for non-shared memory systems."
   ]
  },
  {
   "cell_type": "markdown",
   "metadata": {},
   "source": [
    "# ALGORITHM (METHOD) of IMPLEMENTATION"
   ]
  },
  {
   "cell_type": "code",
   "execution_count": 23,
   "metadata": {},
   "outputs": [
    {
     "name": "stdout",
     "output_type": "stream",
     "text": [
      "#include <omp.h>\r\n",
      "\r\n",
      "#include <stdio.h>\r\n",
      "#include <stdlib.h> \r\n",
      "\r\n",
      "#ifndef M\r\n",
      "# define M 10\r\n",
      "#endif\r\n",
      "\r\n",
      "#ifndef N\r\n",
      "# define N 14\r\n",
      "#endif\r\n",
      "\r\n",
      "int main(int argc, char *argv[]) \r\n",
      "{\r\n",
      "\r\n",
      "\tfloat **A, **B, **C;\r\n",
      "\r\n",
      "\tA = (float**)malloc(sizeof(float*)*M);\r\n",
      "\tfor(int i=0; i < M; ++i) \r\n",
      "\t\tA[i] = (float*)malloc(sizeof(float)*N);\r\n",
      "\r\n",
      "\tB = malloc(sizeof(float*)*N);\r\n",
      "\tfor(int i=0; i < N; ++i) \r\n",
      "\t\tB[i] = malloc(sizeof(float)*M);\r\n",
      "\r\n",
      "\tC = malloc(sizeof(float*)*M);\r\n",
      "\tfor(int i=0; i < M; ++i) \r\n",
      "\t\tC[i] = malloc(sizeof(float)*M);\r\n",
      "\r\n",
      "\t\r\n",
      "\t#pragma omp parallel for\r\n",
      "\tfor(int i=0; i < M; ++i) {\r\n",
      "\t\tfor(int j=0; j < N; ++j) {\r\n",
      "\t\t\tA[i][j] = i*j + 1; //rand();\r\n",
      "\t\t\tB[j][i] = i*100 + j; // rand();\t\t\t\r\n",
      "\t\t}\r\n",
      "\t}\r\n",
      "\r\n",
      "\t#pragma omp parallel for\r\n",
      "\tfor(int i=0; i < M; ++i) {\r\n",
      "\t\tfor(int j=0; j < M; ++j) {\r\n",
      "\t\t\tC[j][i] = 0;\r\n",
      "\t\t}\r\n",
      "\t}\r\n",
      "\r\n",
      "\r\n",
      "\t\r\n",
      "\t\r\n",
      "#define LOOP \\\r\n",
      "for(int i=0; i < M; ++i) { \\\r\n",
      "\tfor(int j=0; j < M; ++j) { \\\r\n",
      "\t\tfor(int k=0; k < N; ++k) { \\\r\n",
      "\t\t\tC[i][j] += A[i][k] * B[k][j]; \\\r\n",
      "\t\t} \\\r\n",
      "\t}\t\\\r\n",
      "}\r\n",
      "\t#pragma omp parallel\r\n",
      "\t{\r\n",
      "\r\n",
      "#if defined _DYNAMIC\r\n",
      "\t//printf(\"# DYNAMIC SCHEDULE\\n\");\r\n",
      "\t#pragma omp for schedule(dynamic, CHUNK)\r\n",
      "\tLOOP\r\n",
      "#elif defined _STATIC\r\n",
      "\t//printf(\"# STATIC SCHEDULE\\n\");\r\n",
      "\t#pragma omp for schedule(static,CHUNK)\r\n",
      "\tLOOP\r\n",
      "#elif defined _GUIDED\r\n",
      "\t// printf(\"# GUIDED SCHEDULE\\n\");\r\n",
      "\t#pragma omp for schedule(guided)\r\n",
      "\tLOOP\r\n",
      "#else\r\n",
      "\t//printf(\"# NO SCHEDULE\\n\");\r\n",
      "\t#pragma omp for\r\n",
      "\tLOOP\r\n",
      "#endif\r\n",
      "\r\n",
      "\t}\r\n",
      "\r\n",
      "\t//printf(\"C: \");\r\n",
      "\t//print_raveled_mx(C, M, M);\r\n",
      "\r\n",
      "\treturn 0;\r\n",
      "}"
     ]
    }
   ],
   "source": [
    "%cat mm.c"
   ]
  },
  {
   "cell_type": "markdown",
   "metadata": {},
   "source": [
    "# RESULT AND EXPERIMENTS"
   ]
  },
  {
   "cell_type": "markdown",
   "metadata": {},
   "source": [
    "Task: \n",
    "\n",
    "1. Implement Matrix Multiplication:\n",
    "    1. Using SPMD Pattern\n",
    "    2. Using OpenMP loop directives with different schedule (type[, chunk]) configurations.\n",
    "2. Do speedup tests:\n",
    "    1. with different amount of data\n",
    "    2. with different number of threads\n",
    "3. Write a report that should include: task definition, brief theory, implementation description, test results (tables, graphics…)"
   ]
  },
  {
   "cell_type": "code",
   "execution_count": 8,
   "metadata": {},
   "outputs": [],
   "source": [
    "#\n",
    "# Helper functions\n",
    "#\n",
    "\n",
    "import subprocess\n",
    "import os\n",
    "\n",
    "def compile(*defs, **defskw):\n",
    "    args = [f\"-D{k}\" for k in defs] + [f\"-D{k}={v}\" for k, v in defskw.items()]\n",
    "    _cmd = 'gcc mm.c -o mm -fopenmp'.split() + args\n",
    "    cmd = subprocess.run(_cmd, stdout=subprocess.PIPE, stderr=subprocess.PIPE)\n",
    "    # print(' '.join(_cmd))\n",
    "    if(cmd.stdout): print('cmd.stdout', cmd.stdout)\n",
    "    if(cmd.stderr): print('cmd.stderr', cmd.stderr)\n",
    "    \n",
    "def run(env=None):\n",
    "    cmd = subprocess.run('./mm', stdout=subprocess.PIPE, stderr=subprocess.PIPE, env=env)    \n",
    "    "
   ]
  },
  {
   "cell_type": "markdown",
   "metadata": {},
   "source": [
    "## Tests with diffeent amounts of threads\n",
    "\n",
    "Lets test how the exection tim ewill change depending on the amount of threads"
   ]
  },
  {
   "cell_type": "code",
   "execution_count": 24,
   "metadata": {},
   "outputs": [
    {
     "name": "stdout",
     "output_type": "stream",
     "text": [
      "Executing with 8 threads\n",
      "\t1.08 s ± 144 ms per loop (mean ± std. dev. of 7 runs, 1 loop each)\n",
      "\n",
      "Executing with 4 threads\n",
      "\t1.05 s ± 232 ms per loop (mean ± std. dev. of 7 runs, 1 loop each)\n",
      "\n",
      "Executing with 2 threads\n",
      "\t1.63 s ± 49.9 ms per loop (mean ± std. dev. of 7 runs, 1 loop each)\n",
      "\n",
      "Executing with 1 thread\n",
      "\t3.58 s ± 188 ms per loop (mean ± std. dev. of 7 runs, 1 loop each)\n",
      "\n"
     ]
    }
   ],
   "source": [
    "compile(N=500, M=1000)\n",
    "\n",
    "\n",
    "env = os.environ.copy()\n",
    "env['OMP_NUM_THREADS'] = str(8)\n",
    "print(\"Executing with 8 threads\", end=\"\\n\\t\")\n",
    "%timeit run(env)\n",
    "print()\n",
    "\n",
    "env = os.environ.copy()\n",
    "env['OMP_NUM_THREADS'] = str(4)\n",
    "print(\"Executing with 4 threads\", end=\"\\n\\t\")\n",
    "%timeit run(env)\n",
    "print()\n",
    "\n",
    "env = os.environ.copy()\n",
    "env['OMP_NUM_THREADS'] = str(2)\n",
    "print(\"Executing with 2 threads\", end=\"\\n\\t\")\n",
    "%timeit run(env)\n",
    "print()\n",
    "\n",
    "env = os.environ.copy()\n",
    "env['OMP_NUM_THREADS'] = str(1)\n",
    "print(\"Executing with 1 thread\", end=\"\\n\\t\")\n",
    "%timeit run(env)\n",
    "print()"
   ]
  },
  {
   "cell_type": "markdown",
   "metadata": {},
   "source": [
    "## Tests with diffent schedules\n",
    "\n",
    "Let's  analyze how different shedules will affect the program performance"
   ]
  },
  {
   "cell_type": "code",
   "execution_count": 20,
   "metadata": {},
   "outputs": [
    {
     "name": "stdout",
     "output_type": "stream",
     "text": [
      "Executing with static schedule\n",
      "\t1.04 s ± 216 ms per loop (mean ± std. dev. of 7 runs, 1 loop each)\n",
      "\n",
      "Executing with dynamic schedule\n",
      "\t855 ms ± 18.5 ms per loop (mean ± std. dev. of 7 runs, 1 loop each)\n",
      "\n",
      "Executing with guided schedule\n",
      "\t874 ms ± 64.2 ms per loop (mean ± std. dev. of 7 runs, 1 loop each)\n",
      "\n"
     ]
    }
   ],
   "source": [
    "env = os.environ.copy()\n",
    "env['OMP_NUM_THREADS'] = str(4)\n",
    "\n",
    "compile('_STATIC', CHUNK=10, N=500, M=1000)\n",
    "\n",
    "\n",
    "print(\"Executing with static schedule\", end=\"\\n\\t\")\n",
    "%timeit run(env)\n",
    "print()\n",
    "\n",
    "compile('_DYNAMIC', CHUNK=10, N=500, M=1000)\n",
    "\n",
    "print(\"Executing with dynamic schedule\", end=\"\\n\\t\")\n",
    "%timeit run(env)\n",
    "print()\n",
    "\n",
    "compile('_GUIDED', N=500, M=1000)\n",
    "\n",
    "print(\"Executing with guided schedule\", end=\"\\n\\t\")\n",
    "%timeit run(env)\n",
    "print()"
   ]
  },
  {
   "cell_type": "markdown",
   "metadata": {},
   "source": [
    "## Tests with diffeent chunks\n",
    "\n",
    "Lets see how the chunk size of a static and dynamic shedule affects the execution time"
   ]
  },
  {
   "cell_type": "code",
   "execution_count": 12,
   "metadata": {},
   "outputs": [
    {
     "name": "stdout",
     "output_type": "stream",
     "text": [
      "Executing with static schedule with 2 chunk size\n",
      "\t958 ms ± 130 ms per loop (mean ± std. dev. of 7 runs, 1 loop each)\n",
      "\n",
      "Executing with dynamic schedule with 2 chunk size\n",
      "\t883 ms ± 57.1 ms per loop (mean ± std. dev. of 7 runs, 1 loop each)\n",
      "\n",
      "Executing with static schedule with 5 chunk size\n",
      "\t885 ms ± 34.5 ms per loop (mean ± std. dev. of 7 runs, 1 loop each)\n",
      "\n",
      "Executing with dynamic schedule with 5 chunk size\n",
      "\t975 ms ± 23.5 ms per loop (mean ± std. dev. of 7 runs, 1 loop each)\n",
      "\n",
      "Executing with static schedule with 10 chunk size\n",
      "\t1.03 s ± 34.4 ms per loop (mean ± std. dev. of 7 runs, 1 loop each)\n",
      "\n",
      "Executing with dynamic schedule with 10 chunk size\n",
      "\t1.23 s ± 233 ms per loop (mean ± std. dev. of 7 runs, 1 loop each)\n",
      "\n",
      "Executing with static schedule with 16 chunk size\n",
      "\t1.14 s ± 177 ms per loop (mean ± std. dev. of 7 runs, 1 loop each)\n",
      "\n",
      "Executing with dynamic schedule with 16 chunk size\n",
      "\t975 ms ± 12.2 ms per loop (mean ± std. dev. of 7 runs, 1 loop each)\n",
      "\n",
      "Executing with static schedule with 20 chunk size\n",
      "\t1.12 s ± 85.6 ms per loop (mean ± std. dev. of 7 runs, 1 loop each)\n",
      "\n",
      "Executing with dynamic schedule with 20 chunk size\n",
      "\t1.07 s ± 91 ms per loop (mean ± std. dev. of 7 runs, 1 loop each)\n",
      "\n"
     ]
    }
   ],
   "source": [
    "env = os.environ.copy()\n",
    "env['OMP_NUM_THREADS'] = str(4)\n",
    "\n",
    "\n",
    "for ch in [2, 5, 10, 16, 20]:\n",
    "    \n",
    "    compile('_STATIC', CHUNK=ch, N=500, M=1000)\n",
    "    \n",
    "    print(f\"Executing with static schedule with {ch} chunk size\", end=\"\\n\\t\")\n",
    "    %timeit run(env)\n",
    "    print()\n",
    "\n",
    "    compile('_DYNAMIC', CHUNK=ch, N=500, M=1000)\n",
    "\n",
    "    print(f\"Executing with dynamic schedule with {ch} chunk size\",end=\"\\n\\t\")\n",
    "    %timeit run(env)\n",
    "    print()"
   ]
  },
  {
   "cell_type": "markdown",
   "metadata": {},
   "source": [
    "## Tests with diffeent amounts of data\n",
    "\n",
    "Finally lets test how the amount of data affects the execution speed"
   ]
  },
  {
   "cell_type": "code",
   "execution_count": 13,
   "metadata": {
    "scrolled": true
   },
   "outputs": [
    {
     "name": "stdout",
     "output_type": "stream",
     "text": [
      "Executing with 500000 elements\n",
      "\t1.15 s ± 96.5 ms per loop (mean ± std. dev. of 7 runs, 1 loop each)\n",
      "\n",
      "Executing with 5000 elements\n",
      "\t5.2 ms ± 598 µs per loop (mean ± std. dev. of 7 runs, 100 loops each)\n",
      "\n"
     ]
    }
   ],
   "source": [
    "env = os.environ.copy()\n",
    "env['OMP_NUM_THREADS'] = str(4)\n",
    "env = os.environ.copy()\n",
    "\n",
    "\n",
    "compile(N=500, M=1000)\n",
    "print(f\"Executing with {500*1000} elements\", end=\"\\n\\t\")\n",
    "%timeit run(env)\n",
    "print()\n",
    "\n",
    "print(f\"Executing with {50*100} elements\", end=\"\\n\\t\")\n",
    "compile(N=50, M=100)\n",
    "%timeit run(env)\n",
    "print()\n"
   ]
  },
  {
   "cell_type": "markdown",
   "metadata": {},
   "source": [
    "# CONCLUSION"
   ]
  },
  {
   "cell_type": "markdown",
   "metadata": {},
   "source": [
    "As we can see Multi-Threading increased the speed of the running of the Application but\n",
    "too much multithreading might also degrade the running time and memory sharing sometimes is a\n",
    "time consuming process too. So the tradeoff should be taken in mind. Overall It improves the\n",
    "working of the System."
   ]
  }
 ],
 "metadata": {
  "kernelspec": {
   "display_name": "Python 3",
   "language": "python",
   "name": "python3"
  },
  "language_info": {
   "codemirror_mode": {
    "name": "ipython",
    "version": 3
   },
   "file_extension": ".py",
   "mimetype": "text/x-python",
   "name": "python",
   "nbconvert_exporter": "python",
   "pygments_lexer": "ipython3",
   "version": "3.7.2"
  }
 },
 "nbformat": 4,
 "nbformat_minor": 2
}
